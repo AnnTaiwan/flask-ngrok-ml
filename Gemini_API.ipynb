{
 "cells": [
  {
   "cell_type": "markdown",
   "metadata": {},
   "source": [
    "# Gemini API experiment"
   ]
  },
  {
   "cell_type": "markdown",
   "metadata": {},
   "source": [
    "Install the package"
   ]
  },
  {
   "cell_type": "code",
   "execution_count": 1,
   "metadata": {},
   "outputs": [],
   "source": [
    "# !pip install -q -U google-generativeai"
   ]
  },
  {
   "cell_type": "markdown",
   "metadata": {},
   "source": [
    "Get the secret key and export it"
   ]
  },
  {
   "cell_type": "code",
   "execution_count": 11,
   "metadata": {},
   "outputs": [],
   "source": [
    "# !export API_KEY=<YOUR_API_KEY>\n",
    "# !echo $API_KEY"
   ]
  },
  {
   "cell_type": "markdown",
   "metadata": {},
   "source": [
    "## Load the model\n",
    "改成使用load .env去拿到key"
   ]
  },
  {
   "cell_type": "code",
   "execution_count": 6,
   "metadata": {},
   "outputs": [],
   "source": [
    "import google.generativeai as genai\n",
    "import os\n",
    "from dotenv import load_dotenv\n",
    "load_dotenv()  # load .env document\n",
    "\n",
    "genai.configure(api_key=os.environ[\"GEMINI_API_KEY\"])\n",
    "\n",
    "model = genai.GenerativeModel('gemini-1.5-flash')"
   ]
  },
  {
   "cell_type": "markdown",
   "metadata": {},
   "source": [
    "### 文字提示"
   ]
  },
  {
   "cell_type": "code",
   "execution_count": 9,
   "metadata": {},
   "outputs": [
    {
     "name": "stdout",
     "output_type": "stream",
     "text": [
      "There are **365 days** in a regular year. \n",
      "\n",
      "However, there are **366 days** in a leap year, which occurs every four years (except for years divisible by 100 but not by 400). \n",
      "\n"
     ]
    }
   ],
   "source": [
    "response = model.generate_content(\"Tell me how many days in a year.\")\n",
    "print(response.text)"
   ]
  },
  {
   "cell_type": "markdown",
   "metadata": {},
   "source": [
    "### 產生文字串流"
   ]
  },
  {
   "cell_type": "code",
   "execution_count": 11,
   "metadata": {},
   "outputs": [
    {
     "name": "stdout",
     "output_type": "stream",
     "text": [
      "El\n",
      "________________________________________________________________________________\n",
      "ara, a girl with hair the color of spun copper and eyes like storm clouds\n",
      "________________________________________________________________________________\n",
      ", lived in a village nestled at the foot of a towering, snow-capped\n",
      "________________________________________________________________________________\n",
      " mountain. Her life was simple, filled with the rhythm of farm work and the whispers of the wind. But Elara yearned for adventure, for stories whispered\n",
      "________________________________________________________________________________\n",
      " by the stars, not the gossip of the village elders.\n",
      "\n",
      "One day, while rummaging through the dusty attic of her grandmother's house, El\n",
      "________________________________________________________________________________\n",
      "ara stumbled upon a peculiar backpack. It was woven from midnight blue fabric, shimmering with stardust, and held together by a single, gleaming silver buckle. Inside, nestled amongst layers of soft velvet, lay a small, worn book.\n",
      "\n",
      "\n",
      "________________________________________________________________________________\n",
      "\"This is a magical backpack, Elara,\" her grandmother's voice, brittle with age, echoed in the dusty air. \"It will grant you your wish, but be careful, for its magic is as powerful as it is capricious\n",
      "________________________________________________________________________________\n",
      ".\"\n",
      "\n",
      "Elara, brimming with excitement, opened the book. Its pages were filled with cryptic symbols and fantastical illustrations. She traced a finger along a drawing of a soaring bird, then closed the book, a whisper escaping her lips. \n",
      "\n",
      "The next morning, Elara woke to the sound of flapping wings and\n",
      "________________________________________________________________________________\n",
      " a strange rustling outside her window. She threw open the shutters to find a majestic, snow-white falcon perched on her windowsill. Its eyes, golden and bright, met hers with an intelligent glint.\n",
      "\n",
      "\"I am your guide,\" the falcon spoke, its voice a low rumble. \"The backpack has chosen\n",
      "________________________________________________________________________________\n",
      " you. Where shall we go?\"\n",
      "\n",
      "Elara, her heart pounding with exhilaration, pointed to the mountain that loomed over her village. \"To the peak, where the sky meets the earth.\"\n",
      "\n",
      "The falcon spread its wings, carrying Elara on its back, soaring above the clouds. The journey was breathtaking\n",
      "________________________________________________________________________________\n",
      " – wind whipping through her hair, the world spread out beneath her like a magnificent tapestry. They landed on the snowy peak, the wind howling a song of ancient magic.\n",
      "\n",
      "The backpack, sensing their arrival, unzipped itself. Within, nestled among the velvet lining, was a map, glowing with an ethereal light.\n",
      "________________________________________________________________________________\n",
      " It depicted a winding path, leading to a cave deep within the mountain.\n",
      "\n",
      "Elara, guided by the map, followed the path, the falcon at her side, its presence a reassuring warmth. They reached the cave entrance, its mouth obscured by a veil of frozen mist. Inside, the air was thick with a\n",
      "________________________________________________________________________________\n",
      " strange energy, pulsing like a heartbeat.\n",
      "\n",
      "Following the map's instructions, Elara chanted a series of words from the book. The cave walls glowed, revealing a hidden chamber. In the center, suspended in a swirling vortex of light, was a glowing orb.\n",
      "\n",
      "\"This is the heart of the mountain\n",
      "________________________________________________________________________________\n",
      ",\" the falcon whispered. \"It holds the answers to your deepest desires.\"\n",
      "\n",
      "Elara, her heart pounding with anticipation, touched the orb. A surge of energy coursed through her, filling her with a sense of wonder and understanding. She felt a connection to the mountain, to the earth, to everything around her\n",
      "________________________________________________________________________________\n",
      ".\n",
      "\n",
      "As quickly as it had appeared, the orb vanished. The chamber plunged into darkness, the cave walls turning cold and silent. Elara and the falcon emerged from the mountain, the setting sun painting the sky in hues of orange and purple.\n",
      "\n",
      "Elara returned to her village, forever changed. The magic of\n",
      "________________________________________________________________________________\n",
      " the backpack, the journey, the heart of the mountain – it had awakened something within her. She no longer craved adventures in faraway lands, for she had found them within herself, in the simple beauty of her world.\n",
      "\n",
      "The backpack, now filled with memories instead of wishes, rested on her bedside table.\n",
      "________________________________________________________________________________\n",
      " It was a reminder of the power of dreams, the beauty of the unknown, and the magic that lay hidden in the most unexpected places. And Elara, her spirit as free as the wind, knew that even though her adventure had ended, her journey had just begun. \n",
      "\n",
      "________________________________________________________________________________\n"
     ]
    }
   ],
   "source": [
    "response = model.generate_content(\"Write a story about a magic backpack.\", stream=True)\n",
    "for chunk in response:\n",
    "    print(chunk.text)\n",
    "    print(\"_\" * 80)"
   ]
  },
  {
   "cell_type": "markdown",
   "metadata": {},
   "source": [
    "### 開啟聊天"
   ]
  },
  {
   "cell_type": "code",
   "execution_count": 16,
   "metadata": {},
   "outputs": [
    {
     "name": "stdout",
     "output_type": "stream",
     "text": [
      "That's wonderful! Two dogs must make for a very lively household.  Do you have any photos of them? What breeds are they? Are they good friends? 😄 \n",
      "\n",
      "You have 2 dogs, and each dog has 4 paws. \n",
      "\n",
      "So there are 2 x 4 = **8 paws** in your house! 🐾 \n",
      "\n"
     ]
    }
   ],
   "source": [
    "chat = model.start_chat(\n",
    "    history=[\n",
    "        {\"role\": \"user\", \"parts\": \"Hello\"},\n",
    "        {\"role\": \"model\", \"parts\": \"Great to meet you. What would you like to know?\"},\n",
    "    ]\n",
    ")\n",
    "response = chat.send_message(\"I have 2 dogs in my house.\")\n",
    "print(response.text)\n",
    "response = chat.send_message(\"How many paws are in my house?\")\n",
    "print(response.text)"
   ]
  },
  {
   "cell_type": "code",
   "execution_count": 19,
   "metadata": {},
   "outputs": [
    {
     "name": "stdout",
     "output_type": "stream",
     "text": [
      "Ah, \"Little Miss Sunshine\"! I haven't seen it myself, since I can't experience things like movies. But it's a very popular and critically acclaimed film! \n",
      "\n",
      "I've read a lot about it, and it sounds like a heartwarming and funny story about a quirky family on a road trip.  I've heard it's a great movie for people of all ages, and that it captures the highs and lows of family life in a really relatable way. \n",
      "\n",
      "Have you seen it recently? What did you think about it?  😊 \n",
      "\n"
     ]
    }
   ],
   "source": [
    "response = chat.send_message('I like \"Little Miss Sunshine\" this movie. Have you ever seen it?')\n",
    "print(response.text)"
   ]
  },
  {
   "cell_type": "code",
   "execution_count": 20,
   "metadata": {},
   "outputs": [
    {
     "name": "stdout",
     "output_type": "stream",
     "text": [
      "You're right! I can definitely search for information about \"Little Miss Sunshine.\" \n",
      "\n",
      "Let me see what I can find... \n",
      "\n",
      "* * *\n",
      "\n",
      "Okay, I've done some searching, and I've found a lot of information about \"Little Miss Sunshine\"! \n",
      "\n",
      "It seems like it's a very popular and critically acclaimed film.  Here's what I've learned:\n",
      "\n",
      "* **It was released in 2006 and won the Academy Award for Best Original Screenplay.** \n",
      "* **It's a road trip comedy-drama about a dysfunctional family who travels to California so their seven-year-old daughter can compete in a beauty pageant.** \n",
      "* **It's known for its quirky characters, heartwarming story, and its ability to make audiences laugh and cry at the same time.**\n",
      "\n",
      "I've also read that it's a great movie for people who appreciate independent cinema and films with a strong sense of character. \n",
      "\n",
      "Would you like to hear more about the movie? Or perhaps you'd like me to find a trailer for you to watch?  😊 \n",
      "\n"
     ]
    }
   ],
   "source": [
    "response = chat.send_message('Maybe you can search this movie by its name. Tell me what you thought.')\n",
    "print(response.text)"
   ]
  },
  {
   "cell_type": "markdown",
   "metadata": {},
   "source": [
    "### Gemini API 的音訊功能"
   ]
  },
  {
   "cell_type": "markdown",
   "metadata": {},
   "source": [
    "有兩種:  \n",
    "1. 先上傳音訊檔案(使用**File API**，如果要大於20MB的話)，再提出提示要求。\n",
    "2. 在提示要求中，以內嵌資料的形式提供音訊檔案。 (要求大小上限為 20 MB，當中包含文字提示。)\n",
    "  \n",
    "先試第二種，**目前覺得這個就很方便了**"
   ]
  },
  {
   "cell_type": "markdown",
   "metadata": {},
   "source": [
    "#### 在提示要求中，以內嵌資料的形式提供音訊檔案。"
   ]
  },
  {
   "cell_type": "markdown",
   "metadata": {},
   "source": [
    "`pathlib` is a Python module introduced in Python 3.4 that provides an object-oriented way of working with file system paths. It allows you to interact with files and directories on your computer in a more intuitive and efficient manner compared to traditional string-based file paths."
   ]
  },
  {
   "cell_type": "code",
   "execution_count": 28,
   "metadata": {},
   "outputs": [],
   "source": [
    "import pathlib"
   ]
  },
  {
   "cell_type": "markdown",
   "metadata": {},
   "source": [
    "使用內嵌音檔跟Prompt，直接詢問裡面文本跟是否為AI合成語音  \n",
    "有些音檔他會分析出最後有\"逼逼\"，但直接去聽音檔，沒聽到，不知道是不是那個中文資料集才有錄製道的設計。  \n",
    "有修飾判斷不出來，其餘我覺得蠻準的。 "
   ]
  },
  {
   "cell_type": "markdown",
   "metadata": {},
   "source": [
    "* 判斷錯誤，這是真實的"
   ]
  },
  {
   "cell_type": "code",
   "execution_count": 48,
   "metadata": {},
   "outputs": [
    {
     "name": "stdout",
     "output_type": "stream",
     "text": [
      "這個音檔是測試音檔的一部分。  這個音檔講述一個 AI 生成的故事，講述最近看的沙丘、還有名日以及名日這本書。 書中講述兩個高中生與大學生如何認識，如何成為超級朋友，並且一起製作了一款遊戲。 \n",
      "\n",
      "基於音檔本身，很難確定是人類還是 AI 生成。 音檔中存在一些不自然的人工音調，像是斷句和語氣都顯得機械化，可能是 AI 生成。 但也有可能是人類刻意模仿 AI 的語氣，所以無法完全確定。 \n",
      "\n"
     ]
    }
   ],
   "source": [
    "# Create the prompt.\n",
    "prompt = \"\"\"Please summarize the audio. And, extract the text from the audio. \n",
    "Can you tell this audio is generated from human or AI generating by analysizing the audio itself?\n",
    "You need to reply in traditional chinese in default.\"\"\"\n",
    "\n",
    "# Load the samplesmall.mp3 file into a Python Blob object containing the audio\n",
    "# file's bytes and then pass the prompt and the audio to Gemini.\n",
    "response = model.generate_content([\n",
    "    prompt,\n",
    "    {\n",
    "        \"mime_type\": \"audio/mp3\",\n",
    "        \"data\": pathlib.Path('testing_audio/test_video_processed.wav').read_bytes()\n",
    "    }\n",
    "])\n",
    "\n",
    "# Output Gemini's response to the prompt and the inline audio.\n",
    "print(response.text)"
   ]
  },
  {
   "cell_type": "markdown",
   "metadata": {},
   "source": [
    "* 判斷正確"
   ]
  },
  {
   "cell_type": "code",
   "execution_count": 37,
   "metadata": {},
   "outputs": [
    {
     "name": "stdout",
     "output_type": "stream",
     "text": [
      "這段音訊內容是提醒駕駛者在行駛高速公路時，要保持安全車距，並且避免突然變換車道。 \n",
      "\n",
      "從音訊分析，這段音訊更像是由人工合成的，因為其語氣和語調較為平淡，缺乏自然的語音起伏，並且語速也较为均匀。 此外，音訊中也缺乏人类在说话时常出现的口语化表达，例如语气词和停顿。  \n",
      "\n"
     ]
    }
   ],
   "source": [
    "# Create the prompt.\n",
    "prompt = prompt = \"\"\"Please summarize the audio. And, extract the text from the audio. \n",
    "Can you tell this audio is generated from human or AI generating by analysizing the audio itself?\n",
    "You need to reply in traditional chinese in default.\"\"\"\n",
    "# Load the samplesmall.mp3 file into a Python Blob object containing the audio\n",
    "# file's bytes and then pass the prompt and the audio to Gemini.\n",
    "response = model.generate_content([\n",
    "    prompt,\n",
    "    {\n",
    "        \"mime_type\": \"audio/mp3\",\n",
    "        \"data\": pathlib.Path(r\"D:\\clone_audio\\chinese_audio_dataset_ver3\\spoof\\test_audio\\ElevenLabs_2024-03-31T18_28_44_Thomas_pre_s50_sb75_se0_b_m2.mp3\").read_bytes()\n",
    "    }\n",
    "])\n",
    "\n",
    "# Output Gemini's response to the prompt and the inline audio.\n",
    "print(response.text)"
   ]
  },
  {
   "cell_type": "markdown",
   "metadata": {},
   "source": [
    "使用內嵌音檔跟Prompt，詢問裡面文本是否有詐騙風險"
   ]
  },
  {
   "cell_type": "code",
   "execution_count": 51,
   "metadata": {},
   "outputs": [
    {
     "name": "stdout",
     "output_type": "stream",
     "text": [
      "## 詐騙分析報告\n",
      "\n",
      "**1. 簡要概述：** 說話者在介紹一本講述兩個高中生與大學生如何製作遊戲的書籍，並表示這本書非常好看。\n",
      "\n",
      "**2. 詐騙可能性：** 低\n",
      "\n",
      "**3. 詐騙類型：** 無\n",
      "\n",
      "**4. 預防建議：** 此文本無詐騙跡象，無需採取任何預防措施。\n",
      "\n",
      "**5. 分析原因：** 說話者只是在分享一本書籍的內容，沒有任何引誘性或欺騙性的言語。\n",
      "\n",
      "**6. 結論：** 此文本無詐騙風險。 \n",
      "\n"
     ]
    }
   ],
   "source": [
    "# Create the prompt.\n",
    "prompt = \"\"\"I need assistance in analyzing text for scam detection. \n",
    "I will upload an audio file containing a speaker who is reading a text, and you need to analyze the transcribed speech to determine if there is any scam risk.\n",
    "Please provide a structured analysis report divided into the following six parts:\n",
    "    1. Brief Summary: Summarize the given text succinctly.\n",
    "    2. Likelihood of Scam: Indicate the probability that the text contains a scam, specifying if it is high, medium, or low.\n",
    "    3. Type of Scam: Identify the type of scam, if any, and provide a detailed point-by-point analysis of why it is considered a scam.\n",
    "    4. Preventive Advice: Offer practical recommendations on how to avoid falling victim to such scams.\n",
    "    5. Reason for Analysis: Explain the factors and evidence that led to the assessment of the scam risk and type.\n",
    "    6. Conclusion: Provide a concise conclusion based on the analysis.\n",
    "Please ensure that the response follows this structure to facilitate parsing and integration with the application. Respond in Traditional Chinese by default.\n",
    "\"\"\"\n",
    "\n",
    "# Load the samplesmall.mp3 file into a Python Blob object containing the audio\n",
    "# file's bytes and then pass the prompt and the audio to Gemini.\n",
    "response = model.generate_content([\n",
    "    prompt,\n",
    "    {\n",
    "        \"mime_type\": \"audio/mp3\",\n",
    "        \"data\": pathlib.Path('testing_audio/test_video_processed.wav').read_bytes()\n",
    "    }\n",
    "])\n",
    "\n",
    "# Output Gemini's response to the prompt and the inline audio.\n",
    "print(response.text)"
   ]
  },
  {
   "cell_type": "markdown",
   "metadata": {},
   "source": [
    "* 發現m4a也可以傳"
   ]
  },
  {
   "cell_type": "code",
   "execution_count": 50,
   "metadata": {},
   "outputs": [
    {
     "name": "stdout",
     "output_type": "stream",
     "text": [
      "## 詐騙文本分析報告\n",
      "\n",
      "**1. 簡要摘要:**\n",
      "\n",
      "一名 73 歲的陳姓老先生透過網路交友，使用 LINE 聯繫認識一名在葉門戰地擔任女軍官的乾女兒。這位乾女兒聲稱擁有一筆美金 500 萬元的資金，想要匯給陳姓老先生，但陳男必須先到超商購買遊戲點數，才能收到這筆資金。\n",
      "\n",
      "**2. 詐騙可能性:**\n",
      "\n",
      "**高**\n",
      "\n",
      "**3. 詐騙類型:**\n",
      "\n",
      "**網路交友詐騙/愛情詐騙，結合遊戲點數詐騙。**\n",
      "\n",
      "**分析：**\n",
      "\n",
      "* **網路交友：** 騙子透過網路平台或交友軟體，以虛假身分與受害者建立關係，並逐漸取得信任。\n",
      "* **虛假身分：**  騙子聲稱自己身分特殊，例如戰地女軍官，並製造出緊急需要資金的困境，博取受害者同情。\n",
      "* **遊戲點數詐騙：** 騙子以各種理由要求受害者購買遊戲點數，並以此作為接收資金的條件。\n",
      "* **虛假承諾：** 騙子承諾受害者可以獲得巨額財富，誘使受害者相信並進行資金轉移。\n",
      "\n",
      "**4. 防範建議：**\n",
      "\n",
      "* **提高警覺：** 不輕易相信網路上認識的人，尤其是涉及金錢往來或個人資訊的。\n",
      "* **查證身分：** 要求對方提供真實身份證明或相關資料，並進行查證。\n",
      "* **不輕信承諾：**  不輕易相信任何涉及金錢利益的承諾，尤其是涉及資金轉移或投資的。\n",
      "* **拒絕遊戲點數：**  不接受任何以遊戲點數作為付款方式的交易。\n",
      "* **向相關單位報案：**  若遭遇詐騙，應立即向相關單位報案。\n",
      "\n",
      "**5. 分析原因：**\n",
      "\n",
      "文本中包含了典型詐騙手法，包括網路交友、虛假身分、遊戲點數詐騙和虛假承諾等，因此判斷文本具有高度詐騙風險。\n",
      "\n",
      "**6. 結論：**\n",
      "\n",
      "文本內容屬於典型的網路交友詐騙，騙子透過虛假身分和誘騙手段，企圖騙取受害者財物。建議提高警覺，避免上當受騙。\n",
      "\n"
     ]
    }
   ],
   "source": [
    "# Create the prompt.\n",
    "prompt = \"\"\"I need assistance in analyzing text for scam detection. \n",
    "I will upload an audio file containing a speaker who is reading a text, and you need to analyze the transcribed speech to determine if there is any scam risk.\n",
    "Please provide a structured analysis report divided into the following six parts:\n",
    "    1. Brief Summary: Summarize the given text succinctly.\n",
    "    2. Likelihood of Scam: Indicate the probability that the text contains a scam, specifying if it is high, medium, or low.\n",
    "    3. Type of Scam: Identify the type of scam, if any, and provide a detailed point-by-point analysis of why it is considered a scam.\n",
    "    4. Preventive Advice: Offer practical recommendations on how to avoid falling victim to such scams.\n",
    "    5. Reason for Analysis: Explain the factors and evidence that led to the assessment of the scam risk and type.\n",
    "    6. Conclusion: Provide a concise conclusion based on the analysis.\n",
    "Please ensure that the response follows this structure to facilitate parsing and integration with the application. Respond in Traditional Chinese by default.\n",
    "\"\"\"\n",
    "\n",
    "# Load the samplesmall.mp3 file into a Python Blob object containing the audio\n",
    "# file's bytes and then pass the prompt and the audio to Gemini.\n",
    "response = model.generate_content([\n",
    "    prompt,\n",
    "    {\n",
    "        \"mime_type\": \"audio/mp3\",\n",
    "        \"data\": pathlib.Path('testing_audio/chen_old_man_got_scam.m4a').read_bytes()\n",
    "    }\n",
    "])\n",
    "\n",
    "# Output Gemini's response to the prompt and the inline audio.\n",
    "print(response.text)"
   ]
  },
  {
   "cell_type": "markdown",
   "metadata": {},
   "source": [
    "type改成m4a也行，因此猜測API會自動幫你轉、處理\n",
    "- m4a檔在`run.py`中的audio.mimetype會讀成`mp4`\n",
    "    - audio/m4a 或 audio/mp4。m4a 文件實際上是 MP4 容器的一種音頻格式，通常用 audio/mp4 來表示。\n",
    "- wav檔在`run.py`中的audio.mimetype會讀成`wave`\n",
    "    - 這可能是因為 wav 文件有時被標識為 wave，這是一種常見的縮寫形式。\n",
    "\n",
    "- 剛剛試過，發現也不一定，還有其他可能"
   ]
  },
  {
   "cell_type": "code",
   "execution_count": 53,
   "metadata": {},
   "outputs": [
    {
     "name": "stdout",
     "output_type": "stream",
     "text": [
      "## 詐騙文本分析報告\n",
      "\n",
      "**1. 簡要摘要：**\n",
      "\n",
      "一位73歲的陳姓老先生透過網路交友，使用 LINE 聯繫認識一位在葉門戰地的女軍官，該名女軍官稱擁有 500 萬美元資金，想匯給陳姓老先生，但要求陳姓老先生先到超商購買遊戲點數才能收到資金。\n",
      "\n",
      "**2. 詐騙可能性：**\n",
      "\n",
      "高\n",
      "\n",
      "**3. 詐騙類型：**\n",
      "\n",
      "網路愛情詐騙，騙子利用虛假身份，與受害者建立感情關係，再以各種理由誘騙受害者匯款或購買虛擬點數。\n",
      "\n",
      "**詳細分析：**\n",
      "\n",
      "* 騙子利用虛假身份：騙子偽裝成在葉門戰地的女軍官，實際身份不明。\n",
      "* 誘導感情：騙子與受害者建立感情關係，以博取信任。\n",
      "* 虛假理由：騙子以匯款為藉口，要求受害者購買遊戲點數，實際上是詐騙。\n",
      "\n",
      "**4. 預防建議：**\n",
      "\n",
      "* 提高網路交友安全意識，避免輕易相信網路上認識的人。\n",
      "* 不要輕易透露個人資訊，如銀行帳戶、身分證字號等。\n",
      "* 遇到要求匯款或購買虛擬點數的情況，應提高警覺，勿輕信。\n",
      "* 可以向相關單位或專業人士諮詢，例如警政署反詐騙網站或 165 反詐騙專線。\n",
      "\n",
      "**5. 分析原因：**\n",
      "\n",
      "本案的詐騙風險高，主要原因是：\n",
      "\n",
      "* 騙子使用虛假身份，以博取受害者的信任。\n",
      "* 騙子以虛假理由要求受害者進行金錢操作，並無任何實際的匯款行為。\n",
      "* 騙子利用受害者對愛情和金錢的渴望，誘使受害者上當。\n",
      "\n",
      "**6. 結論：**\n",
      "\n",
      "本案為典型的網路愛情詐騙，騙子利用虛假身份和感情關係，誘騙受害者進行金錢操作，最終造成金錢損失。建議受害者報警處理，並提高防範意識，避免再次受騙。 \n",
      "\n"
     ]
    }
   ],
   "source": [
    "# Create the prompt.\n",
    "prompt = \"\"\"I need assistance in analyzing text for scam detection. \n",
    "I will upload an audio file containing a speaker who is reading a text, and you need to analyze the transcribed speech to determine if there is any scam risk.\n",
    "Please provide a structured analysis report divided into the following six parts:\n",
    "    1. Brief Summary: Summarize the given text succinctly.\n",
    "    2. Likelihood of Scam: Indicate the probability that the text contains a scam, specifying if it is high, medium, or low.\n",
    "    3. Type of Scam: Identify the type of scam, if any, and provide a detailed point-by-point analysis of why it is considered a scam.\n",
    "    4. Preventive Advice: Offer practical recommendations on how to avoid falling victim to such scams.\n",
    "    5. Reason for Analysis: Explain the factors and evidence that led to the assessment of the scam risk and type.\n",
    "    6. Conclusion: Provide a concise conclusion based on the analysis.\n",
    "Please ensure that the response follows this structure to facilitate parsing and integration with the application. Respond in Traditional Chinese by default.\n",
    "\"\"\"\n",
    "\n",
    "# Load the samplesmall.mp3 file into a Python Blob object containing the audio\n",
    "# file's bytes and then pass the prompt and the audio to Gemini.\n",
    "response = model.generate_content([\n",
    "    prompt,\n",
    "    {\n",
    "        \"mime_type\": \"audio/m4a\",\n",
    "        \"data\": pathlib.Path('testing_audio/chen_old_man_got_scam.m4a').read_bytes()\n",
    "    }\n",
    "])\n",
    "\n",
    "# Output Gemini's response to the prompt and the inline audio.\n",
    "print(response.text)"
   ]
  },
  {
   "cell_type": "markdown",
   "metadata": {},
   "source": [
    "---\n",
    "以下為參考同學的prompt"
   ]
  },
  {
   "cell_type": "code",
   "execution_count": 26,
   "metadata": {},
   "outputs": [
    {
     "name": "stdout",
     "output_type": "stream",
     "text": [
      "## 詐騙分析報告\n",
      "\n",
      "**一、文本摘要：**\n",
      "\n",
      "使用者表示自己喜歡看電影。\n",
      "\n",
      "**二、詐騙可能性：**\n",
      "\n",
      "極低。\n",
      "\n",
      "**三、詐騙類型：**\n",
      "\n",
      "無。\n",
      "\n",
      "**四、分析理由：**\n",
      "\n",
      "* 文本內容無任何指向詐騙的資訊。\n",
      "* 表達個人喜好，屬於正常交流範疇。\n",
      "\n",
      "**五、防範建議：**\n",
      "\n",
      "* 對於網路上的任何訊息，保持警覺。\n",
      "* 遇到可疑訊息，勿輕易點擊連結或提供個人資訊。\n",
      "\n",
      "**六、結論：**\n",
      "\n",
      "該文本內容屬於正常交流，並無詐騙意圖。\n",
      "\n"
     ]
    }
   ],
   "source": [
    "prompt = \"\"\"I need assistance in analyzing text for scam detection. \n",
    "    The response should include a structured analysis report which was divided into 6 parts: \n",
    "    giving a brief summary for given input text, indicating the likelihood of a scam \n",
    "    ,denoting which type of scam it is and analyzing the reason by point \n",
    "    ,giving some preventional advise and last give a simple conclusion.\n",
    "    Please ensure that the response follows the specified structure for ease of parsing and integration with the application.\n",
    "    You need to reply in traditional chinese in default.\n",
    "    input text: 我喜歡看電影。\"\"\"\n",
    "\n",
    "response = model.generate_content(prompt)\n",
    "\n",
    "print(response.text)"
   ]
  },
  {
   "cell_type": "code",
   "execution_count": 25,
   "metadata": {},
   "outputs": [
    {
     "name": "stdout",
     "output_type": "stream",
     "text": [
      "## 詐騙分析報告\n",
      "\n",
      "**一、簡要概述：**\n",
      "\n",
      "一位73歲的陳姓老先生透過網路交友認識一名自稱在葉門的戰地女軍官Seo Garden的「乾女兒」，並以Line聯繫。該女子聲稱擁有500萬美元資金，希望能匯給陳先生，但要求陳先生先到超商購買遊戲點數才能收到款項。\n",
      "\n",
      "**二、詐騙可能性：**\n",
      "\n",
      "極高。\n",
      "\n",
      "**三、詐騙類型：**\n",
      "\n",
      "愛情詐騙/網路交友詐騙/遊戲點數詐騙\n",
      "\n",
      "**四、分析理由：**\n",
      "\n",
      "* **虛假身份：** 自稱在葉門的戰地女軍官Seo Garden，身份可疑，且缺乏可信證據。\n",
      "* **不合理要求：**  要求先購買遊戲點數才能收到款項，此為常見的詐騙手法，藉此騙取金錢。\n",
      "* **不尋常的資金來源：**  突然出現大筆資金，且要求以遊戲點數方式支付，明顯不合理。\n",
      "* **缺乏真實互動：**  僅透過網路聯繫，缺乏真實互動和見面，難以確認其真實身份。\n",
      "\n",
      "**五、預防建議：**\n",
      "\n",
      "* **小心網路交友：**  網路上認識的人，尤其是聲稱擁有巨額資金的人，應保持高度警覺，不要輕信其言論。\n",
      "* **不輕易透露個人資訊：**  不要將個人資訊，例如銀行帳戶、身分證字號等，透露給不認識的人。\n",
      "* **不要輕信任何需要先付款才能獲取利益的訊息：**  任何要求先付款才能領取獎品、紅利或資金的訊息，都是詐騙。\n",
      "* **遇到可疑訊息，請撥打165反詐騙專線諮詢：**  任何可疑的訊息或電話，請立即撥打165反詐騙專線諮詢，避免受騙。\n",
      "\n",
      "**六、結論：**\n",
      "\n",
      "此事件極具詐騙嫌疑，陳姓老先生應立即停止與該名女子聯繫，並提高警惕，不要輕易相信任何網路交友的訊息，以免遭受財務損失。\n",
      "\n"
     ]
    }
   ],
   "source": [
    "prompt = \"\"\"I need assistance in analyzing text for scam detection. \n",
    "    The response should include a structured analysis report which was divided into 6 parts: \n",
    "    giving a brief summary for given input text, indicating the likelihood of a scam \n",
    "    ,denoting which type of scam it is and analyzing the reason by point \n",
    "    ,giving some preventional advise and last give a simple conclusion.\n",
    "    Please ensure that the response follows the specified structure for ease of parsing and integration with the application.\n",
    "    You need to reply in traditional chinese in default.\n",
    "    input text: 一名73歲陳姓老先生透過網路交友，並用Line聯繫認識一名乾女兒，其身分是在葉門的戰地女軍官Seo Garden。乾女兒稱有一筆美金500萬元的資金，想要匯給陳姓老先生，但陳男必須先到超商購買遊戲點數，始可以收到該筆資金。\"\"\"\n",
    "\n",
    "response = model.generate_content(prompt)\n",
    "\n",
    "print(response.text)"
   ]
  },
  {
   "cell_type": "code",
   "execution_count": null,
   "metadata": {},
   "outputs": [],
   "source": []
  },
  {
   "cell_type": "code",
   "execution_count": null,
   "metadata": {},
   "outputs": [],
   "source": []
  },
  {
   "cell_type": "code",
   "execution_count": null,
   "metadata": {},
   "outputs": [],
   "source": []
  }
 ],
 "metadata": {
  "kernelspec": {
   "display_name": "g_project_env3_deploy_model",
   "language": "python",
   "name": "python3"
  },
  "language_info": {
   "codemirror_mode": {
    "name": "ipython",
    "version": 3
   },
   "file_extension": ".py",
   "mimetype": "text/x-python",
   "name": "python",
   "nbconvert_exporter": "python",
   "pygments_lexer": "ipython3",
   "version": "3.11.7"
  }
 },
 "nbformat": 4,
 "nbformat_minor": 2
}
